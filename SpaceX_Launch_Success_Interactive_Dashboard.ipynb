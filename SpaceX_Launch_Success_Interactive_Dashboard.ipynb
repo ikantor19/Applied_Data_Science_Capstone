{
 "cells": [
  {
   "cell_type": "markdown",
   "id": "73acd94e",
   "metadata": {},
   "source": [
    "# SpaceX Launch Success Interactive Dashboard"
   ]
  },
  {
   "cell_type": "markdown",
   "id": "6a5814a2",
   "metadata": {},
   "source": [
    "#### Plotly Dash "
   ]
  },
  {
   "cell_type": "code",
   "execution_count": null,
   "id": "f1fabbdd",
   "metadata": {},
   "outputs": [],
   "source": [
    "import pandas as pd\n",
    "import dash\n",
    "import dash_html_components as html\n",
    "import dash_core_components as dcc\n",
    "from dash.dependencies import Input, Output\n",
    "import plotly.express as px\n",
    "\n",
    "df = pd.read_csv(\"space_launch_dash.csv\")\n",
    "\n",
    "max_var = df[\"Payload Mass (kg)\"].max()\n",
    "min_var = df['Payload Mass (kg)'].min()\n",
    "\n",
    "app = dash.Dash(__name__)\n",
    "server = app.server\n",
    "\n",
    "app.layout = html.Div(children=[html.H1('SpaceX Launch Records Dashboard',\n",
    "                                        style={'textAlign': 'center', 'color': '#503D36',\n",
    "                                               'font-size': 40}),\n",
    "                                dcc.Dropdown(id = \"site-dropdown\",\n",
    "                                            options = [\n",
    "                                                    {\"label\" : \"All Sites\", \"value\" : \"ALL\"},\n",
    "                                                    {\"label\" : \"CCAFS SLC-40\", \"value\" : \"CCAFS SLC-40\"},\n",
    "                                                    {\"label\" : \"KSC LC-39A\", \"value\" : \"KSC LC-39A\"},\n",
    "                                                    {\"label\" : \"VAFB SLC-4E\", \"value\" : \"VAFB SLC-4E\"},\n",
    "                                                    {\"label\" : \"CCAFS LC-40\", \"value\" : \"CCAFS LC-40\"}\n",
    "                                            ],\n",
    "                                            value = \"ALL\",\n",
    "                                            placeholder = \"Select a Launch Site\",\n",
    "                                            searchable = True\n",
    "                                            ),\n",
    "                                html.Br(),\n",
    "\n",
    "                                html.Div(dcc.Graph(id='success-pie-chart')),\n",
    "                                html.Br(),\n",
    "\n",
    "                                html.P(\"Payload range (Kg):\"),\n",
    "                                \n",
    "                                dcc.RangeSlider(id = 'payload-slider',\n",
    "                                            min = 0,\n",
    "                                            max = 10000,\n",
    "                                            step = 1000,\n",
    "                                            value = [min_payload, max_payload]\n",
    "                                ),\n",
    "                                \n",
    "                                html.Div(dcc.Graph(id='success-payload-scatter-chart')),\n",
    "                                ])\n",
    "\n",
    "@app.callback(\n",
    "    Output(component_id = \"success-pie-chart\", component_property = \"figure\"),\n",
    "    Input(component_id = \"site-dropdown\", component_property = \"value\"))\n",
    "    \n",
    "def get_pie_chart(entered_site):\n",
    "    filtered_df = spacex_df[spacex_df[\"Launch Site\"] == entered_site]\n",
    "    if entered_site == \"ALL\":\n",
    "        fig = px.pie(spacex_df, values = \"class\", names = \"Launch Site\", title = \"Total Successful Launches by Site\")\n",
    "        return fig\n",
    "    else:\n",
    "        fig = px.pie(filtered_df, names = \"class\", title = \"Total Successful Launches for site \" + entered_site)\n",
    "        return fig\n",
    "\n",
    "@app.callback(\n",
    "    Output(component_id = \"success-payload-scatter-chart\", component_property = \"figure\"),\n",
    "    Input(component_id = \"site-dropdown\", component_property = \"value\"),\n",
    "    Input(component_id = \"payload-slider\", component_property = \"value\"))\n",
    "\n",
    "def get_scatter_plot(entered_site, entered_payload):\n",
    "    filtered_df = spacex_df[spacex_df[\"Payload Mass (kg)\"].between(entered_payload[0], entered_payload[1])]\n",
    "    if entered_site == \"ALL\":\n",
    "        fig = px.scatter(filtered_df, x = \"Payload Mass (kg)\", y = \"class\", color = \"Booster Version\", title = \"Correlation Between Payload Mass and Success for All Launch Sites\")\n",
    "        return fig\n",
    "    else:\n",
    "        filtered_df = filtered_df[filtered_df[\"Launch Site\"] == entered_site]\n",
    "        fig = px.scatter(filtered_df, x = \"Payload Mass (kg)\", y = \"class\", color = \"Booster Version\", title = \"Correlation Between Payload Mass and Success for site\" + entered_site)\n",
    "        return fig\n",
    "\n",
    "# Run the app\n",
    "if __name__ == '__main__':\n",
    "    app.run_server()"
   ]
  }
 ],
 "metadata": {
  "kernelspec": {
   "display_name": "Python 3 (ipykernel)",
   "language": "python",
   "name": "python3"
  },
  "language_info": {
   "codemirror_mode": {
    "name": "ipython",
    "version": 3
   },
   "file_extension": ".py",
   "mimetype": "text/x-python",
   "name": "python",
   "nbconvert_exporter": "python",
   "pygments_lexer": "ipython3",
   "version": "3.9.7"
  }
 },
 "nbformat": 4,
 "nbformat_minor": 5
}
